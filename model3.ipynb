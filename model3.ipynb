{
 "cells": [
  {
   "cell_type": "code",
   "execution_count": 1,
   "metadata": {},
   "outputs": [],
   "source": [
    "from __future__ import print_function\n",
    "import torch\n",
    "import torch.nn as nn\n",
    "import torch.nn.functional as F\n",
    "import torch.optim as optim\n",
    "from torchvision import datasets, transforms"
   ]
  },
  {
   "cell_type": "code",
   "execution_count": 2,
   "metadata": {},
   "outputs": [],
   "source": [
    "# Train Phase transformations\n",
    "train_transforms = transforms.Compose([\n",
    "                                       transforms.Resize((28, 28)),\n",
    "                                       transforms.ColorJitter(brightness=0.10, contrast=0.1, saturation=0.10, hue=0.1),\n",
    "                                       transforms.ToTensor(),\n",
    "                                       transforms.Normalize((0.1307,), (0.3081,)) # The mean and std have to be sequences (e.g., tuples), therefore you should add a comma after the values.\n",
    "                                       # Note the difference between (0.1307) and (0.1307,)\n",
    "                                       ])\n",
    "\n",
    "# Test Phase transformations\n",
    "test_transforms = transforms.Compose([\n",
    "                                      #  transforms.Resize((28, 28)),\n",
    "                                      #  transforms.ColorJitter(brightness=0.10, contrast=0.1, saturation=0.10, hue=0.1),\n",
    "                                       transforms.ToTensor(),\n",
    "                                       transforms.Normalize((0.1307,), (0.3081,))\n",
    "                                       ])"
   ]
  },
  {
   "cell_type": "code",
   "execution_count": 3,
   "metadata": {},
   "outputs": [],
   "source": [
    "train = datasets.MNIST('./data', train=True, download=True, transform=train_transforms)\n",
    "test = datasets.MNIST('./data', train=False, download=True, transform=test_transforms)"
   ]
  },
  {
   "cell_type": "code",
   "execution_count": 4,
   "metadata": {},
   "outputs": [
    {
     "name": "stdout",
     "output_type": "stream",
     "text": [
      "CUDA Available? True\n"
     ]
    }
   ],
   "source": [
    "SEED = 1\n",
    "\n",
    "# CUDA?\n",
    "cuda = torch.cuda.is_available()\n",
    "print(\"CUDA Available?\", cuda)\n",
    "\n",
    "# For reproducibility\n",
    "torch.manual_seed(SEED)\n",
    "\n",
    "if cuda:\n",
    "    torch.cuda.manual_seed(SEED)\n",
    "\n",
    "# dataloader arguments - something you'll fetch these from cmdprmt\n",
    "dataloader_args = dict(shuffle=True, batch_size=128, num_workers=4, pin_memory=True) if cuda else dict(shuffle=True, batch_size=64)\n",
    "\n",
    "# train dataloader\n",
    "train_loader = torch.utils.data.DataLoader(train, **dataloader_args)\n",
    "\n",
    "# test dataloader\n",
    "test_loader = torch.utils.data.DataLoader(test, **dataloader_args)"
   ]
  },
  {
   "cell_type": "code",
   "execution_count": 5,
   "metadata": {},
   "outputs": [],
   "source": [
    "class Model3(nn.Module):\n",
    "    def __init__(self):\n",
    "        super(Model3, self).__init__()\n",
    "\n",
    "        self.convblock1 = nn.Sequential(\n",
    "            nn.Conv2d(in_channels=1, out_channels=10, kernel_size=(3, 3), padding=0),\n",
    "            nn.BatchNorm2d(10),\n",
    "            nn.ReLU()\n",
    "        )  # INPUT = 28x28 | OUTPUT = 26x26 | RF = 3\n",
    "\n",
    "        self.convblock2 = nn.Sequential(\n",
    "            nn.Conv2d(in_channels=10, out_channels=10, kernel_size=(3, 3), padding=0),\n",
    "            nn.BatchNorm2d(10),\n",
    "            nn.ReLU()\n",
    "        )  # INPUT = 26x26 | OUTPUT = 24x24 | RF = 5\n",
    "\n",
    "        self.convblock3 = nn.Sequential(\n",
    "            nn.Conv2d(in_channels=10, out_channels=10, kernel_size=(3, 3), padding=0),\n",
    "            nn.BatchNorm2d(10),\n",
    "            nn.ReLU()\n",
    "        )  # INPUT = 24x24 | OUTPUT = 22x22 | RF = 7\n",
    "\n",
    "        self.pool1 = nn.MaxPool2d(2, 2)  # INPUT = 22x22 | OUTPUT = 11x11 | RF = 8\n",
    "\n",
    "        self.convblock4 = nn.Sequential(\n",
    "            nn.Conv2d(in_channels=10, out_channels=10, kernel_size=(3, 3), padding=0),\n",
    "            nn.BatchNorm2d(10),\n",
    "            nn.ReLU()\n",
    "        )  # INPUT = 11x11 | OUTPUT = 9x9 | RF = 12\n",
    "\n",
    "        self.convblock5 = nn.Sequential(\n",
    "            nn.Conv2d(in_channels=10, out_channels=20, kernel_size=(3, 3), padding=0),\n",
    "            nn.BatchNorm2d(20),\n",
    "            nn.ReLU()\n",
    "        )  # INPUT = 9x9 | OUTPUT = 7x7 | RF = 16\n",
    "\n",
    "        self.convblock6 = nn.Sequential(\n",
    "            nn.Conv2d(in_channels=20, out_channels=10, kernel_size=(3, 3), padding=0),\n",
    "            nn.BatchNorm2d(10),\n",
    "            nn.ReLU()\n",
    "        )  # INPUT = 7x7 | OUTPUT = 5x5 | RF = 20\n",
    "\n",
    "        self.convblock7 = nn.Sequential(\n",
    "            nn.Conv2d(in_channels=10, out_channels=10, kernel_size=(3, 3), padding=0),\n",
    "        )  # INPUT = 5x5 | OUTPUT = 3x3 | RF = 24\n",
    "\n",
    "        self.gap = nn.Sequential(\n",
    "            nn.AvgPool2d(3)\n",
    "        )  # INPUT = 3x3 | OUTPUT = 1x1 | RF = 28\n",
    "\n",
    "        self.dropout = nn.Dropout(0.1)\n",
    "\n",
    "    def forward(self, x):\n",
    "        x = self.convblock1(x)\n",
    "        x = self.convblock2(x)\n",
    "        x = self.convblock3(x)\n",
    "        x = self.pool1(x)\n",
    "        x = self.convblock4(x)\n",
    "        x = self.convblock5(x)\n",
    "        x = self.dropout(x)\n",
    "        x = self.convblock6(x)\n",
    "        x = self.convblock7(x)\n",
    "        x = self.gap(x)\n",
    "        x = x.view(-1, 10)\n",
    "        return F.log_softmax(x, dim=-1)\n"
   ]
  },
  {
   "cell_type": "code",
   "execution_count": 6,
   "metadata": {},
   "outputs": [
    {
     "name": "stdout",
     "output_type": "stream",
     "text": [
      "Requirement already satisfied: torchsummary in /opt/conda/envs/pytorch/lib/python3.11/site-packages (1.5.1)\n",
      "Note: you may need to restart the kernel to use updated packages.\n",
      "cuda\n",
      "----------------------------------------------------------------\n",
      "        Layer (type)               Output Shape         Param #\n",
      "================================================================\n",
      "            Conv2d-1           [-1, 10, 26, 26]             100\n",
      "       BatchNorm2d-2           [-1, 10, 26, 26]              20\n",
      "              ReLU-3           [-1, 10, 26, 26]               0\n",
      "            Conv2d-4           [-1, 10, 24, 24]             910\n",
      "       BatchNorm2d-5           [-1, 10, 24, 24]              20\n",
      "              ReLU-6           [-1, 10, 24, 24]               0\n",
      "            Conv2d-7           [-1, 10, 22, 22]             910\n",
      "       BatchNorm2d-8           [-1, 10, 22, 22]              20\n",
      "              ReLU-9           [-1, 10, 22, 22]               0\n",
      "        MaxPool2d-10           [-1, 10, 11, 11]               0\n",
      "           Conv2d-11             [-1, 10, 9, 9]             910\n",
      "      BatchNorm2d-12             [-1, 10, 9, 9]              20\n",
      "             ReLU-13             [-1, 10, 9, 9]               0\n",
      "           Conv2d-14             [-1, 20, 7, 7]           1,820\n",
      "      BatchNorm2d-15             [-1, 20, 7, 7]              40\n",
      "             ReLU-16             [-1, 20, 7, 7]               0\n",
      "          Dropout-17             [-1, 20, 7, 7]               0\n",
      "           Conv2d-18             [-1, 10, 5, 5]           1,810\n",
      "      BatchNorm2d-19             [-1, 10, 5, 5]              20\n",
      "             ReLU-20             [-1, 10, 5, 5]               0\n",
      "           Conv2d-21             [-1, 10, 3, 3]             910\n",
      "        AvgPool2d-22             [-1, 10, 1, 1]               0\n",
      "================================================================\n",
      "Total params: 7,510\n",
      "Trainable params: 7,510\n",
      "Non-trainable params: 0\n",
      "----------------------------------------------------------------\n",
      "Input size (MB): 0.00\n",
      "Forward/backward pass size (MB): 0.46\n",
      "Params size (MB): 0.03\n",
      "Estimated Total Size (MB): 0.49\n",
      "----------------------------------------------------------------\n"
     ]
    }
   ],
   "source": [
    "%pip install torchsummary\n",
    "from torchsummary import summary\n",
    "use_cuda = torch.cuda.is_available()\n",
    "device = torch.device(\"cuda\" if use_cuda else \"cpu\")\n",
    "print(device)\n",
    "model = Model3().to(device)\n",
    "summary(model, input_size=(1, 28, 28))"
   ]
  },
  {
   "cell_type": "code",
   "execution_count": 7,
   "metadata": {},
   "outputs": [],
   "source": [
    "from tqdm import tqdm\n",
    "\n",
    "train_losses = []\n",
    "test_losses = []\n",
    "train_acc = []\n",
    "test_acc = []\n",
    "\n",
    "def train(model, device, train_loader, optimizer, epoch):\n",
    "  model.train()\n",
    "  pbar = tqdm(train_loader)\n",
    "  correct = 0\n",
    "  processed = 0\n",
    "  for batch_idx, (data, target) in enumerate(pbar):\n",
    "    # get samples\n",
    "    data, target = data.to(device), target.to(device)\n",
    "\n",
    "    # Init\n",
    "    optimizer.zero_grad()\n",
    "    # In PyTorch, we need to set the gradients to zero before starting to do backpropragation because PyTorch accumulates the gradients on subsequent backward passes.\n",
    "    # Because of this, when you start your training loop, ideally you should zero out the gradients so that you do the parameter update correctly.\n",
    "\n",
    "    # Predict\n",
    "    y_pred = model(data)\n",
    "\n",
    "    # Calculate loss\n",
    "    loss = F.nll_loss(y_pred, target)\n",
    "    train_losses.append(loss)\n",
    "\n",
    "    # Backpropagation\n",
    "    loss.backward()\n",
    "    optimizer.step()\n",
    "\n",
    "    # Update pbar-tqdm\n",
    "\n",
    "    pred = y_pred.argmax(dim=1, keepdim=True)  # get the index of the max log-probability\n",
    "    correct += pred.eq(target.view_as(pred)).sum().item()\n",
    "    processed += len(data)\n",
    "\n",
    "    pbar.set_description(desc= f'Loss={loss.item()} Batch_id={batch_idx} Accuracy={100*correct/processed:0.2f}')\n",
    "    train_acc.append(100*correct/processed)\n",
    "\n",
    "def test(model, device, test_loader):\n",
    "    model.eval()\n",
    "    test_loss = 0\n",
    "    correct = 0\n",
    "    with torch.no_grad():\n",
    "        for data, target in test_loader:\n",
    "            data, target = data.to(device), target.to(device)\n",
    "            output = model(data)\n",
    "            test_loss += F.nll_loss(output, target, reduction='sum').item()  # sum up batch loss\n",
    "            pred = output.argmax(dim=1, keepdim=True)  # get the index of the max log-probability\n",
    "            correct += pred.eq(target.view_as(pred)).sum().item()\n",
    "\n",
    "    test_loss /= len(test_loader.dataset)\n",
    "    test_losses.append(test_loss)\n",
    "\n",
    "    print('\\nTest set: Average loss: {:.4f}, Accuracy: {}/{} ({:.2f}%)\\n'.format(\n",
    "        test_loss, correct, len(test_loader.dataset),\n",
    "        100. * correct / len(test_loader.dataset)))\n",
    "\n",
    "    test_acc.append(100. * correct / len(test_loader.dataset))\n",
    "    return test_loss,test_acc"
   ]
  },
  {
   "cell_type": "code",
   "execution_count": 8,
   "metadata": {},
   "outputs": [
    {
     "name": "stderr",
     "output_type": "stream",
     "text": [
      "/opt/conda/envs/pytorch/lib/python3.11/site-packages/torch/optim/lr_scheduler.py:62: UserWarning: The verbose parameter is deprecated. Please use get_last_lr() to access the learning rate.\n",
      "  warnings.warn(\n"
     ]
    },
    {
     "name": "stdout",
     "output_type": "stream",
     "text": [
      "EPOCH: 0\n"
     ]
    },
    {
     "name": "stderr",
     "output_type": "stream",
     "text": [
      "Loss=0.06316276639699936 Batch_id=468 Accuracy=95.75: 100%|██████████| 469/469 [00:08<00:00, 58.35it/s] \n"
     ]
    },
    {
     "name": "stdout",
     "output_type": "stream",
     "text": [
      "\n",
      "Test set: Average loss: 0.0532, Accuracy: 9816/10000 (98.16%)\n",
      "\n",
      "EPOCH: 1\n"
     ]
    },
    {
     "name": "stderr",
     "output_type": "stream",
     "text": [
      "Loss=0.01732787676155567 Batch_id=468 Accuracy=98.31: 100%|██████████| 469/469 [00:07<00:00, 60.94it/s]  \n"
     ]
    },
    {
     "name": "stdout",
     "output_type": "stream",
     "text": [
      "\n",
      "Test set: Average loss: 0.0546, Accuracy: 9834/10000 (98.34%)\n",
      "\n",
      "EPOCH: 2\n"
     ]
    },
    {
     "name": "stderr",
     "output_type": "stream",
     "text": [
      "Loss=0.09690334647893906 Batch_id=468 Accuracy=98.58: 100%|██████████| 469/469 [00:07<00:00, 60.81it/s]  \n"
     ]
    },
    {
     "name": "stdout",
     "output_type": "stream",
     "text": [
      "\n",
      "Test set: Average loss: 0.0320, Accuracy: 9904/10000 (99.04%)\n",
      "\n",
      "EPOCH: 3\n"
     ]
    },
    {
     "name": "stderr",
     "output_type": "stream",
     "text": [
      "Loss=0.04262491688132286 Batch_id=468 Accuracy=98.72: 100%|██████████| 469/469 [00:07<00:00, 61.81it/s]  \n"
     ]
    },
    {
     "name": "stdout",
     "output_type": "stream",
     "text": [
      "\n",
      "Test set: Average loss: 0.0501, Accuracy: 9850/10000 (98.50%)\n",
      "\n",
      "EPOCH: 4\n"
     ]
    },
    {
     "name": "stderr",
     "output_type": "stream",
     "text": [
      "Loss=0.015266002155840397 Batch_id=468 Accuracy=98.90: 100%|██████████| 469/469 [00:07<00:00, 62.19it/s] \n"
     ]
    },
    {
     "name": "stdout",
     "output_type": "stream",
     "text": [
      "\n",
      "Test set: Average loss: 0.0317, Accuracy: 9903/10000 (99.03%)\n",
      "\n",
      "EPOCH: 5\n"
     ]
    },
    {
     "name": "stderr",
     "output_type": "stream",
     "text": [
      "Loss=0.04794388636946678 Batch_id=468 Accuracy=98.91: 100%|██████████| 469/469 [00:07<00:00, 61.35it/s]  \n"
     ]
    },
    {
     "name": "stdout",
     "output_type": "stream",
     "text": [
      "\n",
      "Test set: Average loss: 0.0310, Accuracy: 9908/10000 (99.08%)\n",
      "\n",
      "EPOCH: 6\n"
     ]
    },
    {
     "name": "stderr",
     "output_type": "stream",
     "text": [
      "Loss=0.02243087626993656 Batch_id=468 Accuracy=99.00: 100%|██████████| 469/469 [00:07<00:00, 60.91it/s]  \n"
     ]
    },
    {
     "name": "stdout",
     "output_type": "stream",
     "text": [
      "\n",
      "Test set: Average loss: 0.0251, Accuracy: 9918/10000 (99.18%)\n",
      "\n",
      "EPOCH: 7\n"
     ]
    },
    {
     "name": "stderr",
     "output_type": "stream",
     "text": [
      "Loss=0.022157451137900352 Batch_id=468 Accuracy=99.00: 100%|██████████| 469/469 [00:07<00:00, 62.73it/s] \n"
     ]
    },
    {
     "name": "stdout",
     "output_type": "stream",
     "text": [
      "\n",
      "Test set: Average loss: 0.0315, Accuracy: 9895/10000 (98.95%)\n",
      "\n",
      "EPOCH: 8\n"
     ]
    },
    {
     "name": "stderr",
     "output_type": "stream",
     "text": [
      "Loss=0.029119694605469704 Batch_id=468 Accuracy=99.11: 100%|██████████| 469/469 [00:07<00:00, 61.65it/s] \n"
     ]
    },
    {
     "name": "stdout",
     "output_type": "stream",
     "text": [
      "\n",
      "Test set: Average loss: 0.0396, Accuracy: 9877/10000 (98.77%)\n",
      "\n",
      "EPOCH: 9\n"
     ]
    },
    {
     "name": "stderr",
     "output_type": "stream",
     "text": [
      "Loss=0.04288138821721077 Batch_id=468 Accuracy=99.13: 100%|██████████| 469/469 [00:07<00:00, 61.64it/s]   \n"
     ]
    },
    {
     "name": "stdout",
     "output_type": "stream",
     "text": [
      "\n",
      "Test set: Average loss: 0.0298, Accuracy: 9909/10000 (99.09%)\n",
      "\n",
      "EPOCH: 10\n"
     ]
    },
    {
     "name": "stderr",
     "output_type": "stream",
     "text": [
      "Loss=0.00682647293433547 Batch_id=468 Accuracy=99.52: 100%|██████████| 469/469 [00:07<00:00, 61.36it/s]   \n"
     ]
    },
    {
     "name": "stdout",
     "output_type": "stream",
     "text": [
      "\n",
      "Test set: Average loss: 0.0159, Accuracy: 9944/10000 (99.44%)\n",
      "\n",
      "EPOCH: 11\n"
     ]
    },
    {
     "name": "stderr",
     "output_type": "stream",
     "text": [
      "Loss=0.000698699674103409 Batch_id=468 Accuracy=99.62: 100%|██████████| 469/469 [00:07<00:00, 62.78it/s]  \n"
     ]
    },
    {
     "name": "stdout",
     "output_type": "stream",
     "text": [
      "\n",
      "Test set: Average loss: 0.0174, Accuracy: 9944/10000 (99.44%)\n",
      "\n",
      "EPOCH: 12\n"
     ]
    },
    {
     "name": "stderr",
     "output_type": "stream",
     "text": [
      "Loss=0.007735205814242363 Batch_id=468 Accuracy=99.66: 100%|██████████| 469/469 [00:07<00:00, 62.28it/s]  \n"
     ]
    },
    {
     "name": "stdout",
     "output_type": "stream",
     "text": [
      "\n",
      "Test set: Average loss: 0.0149, Accuracy: 9956/10000 (99.56%)\n",
      "\n",
      "EPOCH: 13\n"
     ]
    },
    {
     "name": "stderr",
     "output_type": "stream",
     "text": [
      "Loss=0.031765781342983246 Batch_id=468 Accuracy=99.67: 100%|██████████| 469/469 [00:07<00:00, 62.25it/s]  \n"
     ]
    },
    {
     "name": "stdout",
     "output_type": "stream",
     "text": [
      "\n",
      "Test set: Average loss: 0.0163, Accuracy: 9946/10000 (99.46%)\n",
      "\n",
      "EPOCH: 14\n"
     ]
    },
    {
     "name": "stderr",
     "output_type": "stream",
     "text": [
      "Loss=0.02382434904575348 Batch_id=468 Accuracy=99.71: 100%|██████████| 469/469 [00:07<00:00, 62.00it/s]   \n"
     ]
    },
    {
     "name": "stdout",
     "output_type": "stream",
     "text": [
      "\n",
      "Test set: Average loss: 0.0158, Accuracy: 9955/10000 (99.55%)\n",
      "\n"
     ]
    }
   ],
   "source": [
    "from torch.optim.lr_scheduler import ReduceLROnPlateau\n",
    "\n",
    "model =  Model3().to(device)\n",
    "optimizer = optim.Adam(model.parameters(), lr=0.01) #replaced SGD with Adam\n",
    "scheduler = ReduceLROnPlateau(optimizer, mode='min', factor=0.1, patience=2, verbose=True)\n",
    "\n",
    "EPOCHS = 15\n",
    "for epoch in range(EPOCHS):\n",
    "    print(\"EPOCH:\", epoch)\n",
    "    train(model, device, train_loader, optimizer, epoch)\n",
    "    #test(model, device, test_loader)\n",
    "    test_loss, _ = test(model, device, test_loader)\n",
    "    scheduler.step(test_loss)"
   ]
  },
  {
   "cell_type": "markdown",
   "metadata": {},
   "source": [
    "**Target:**\n",
    "\n",
    "Introduce Scheduler\n",
    "\n",
    "Keep the epochs within 15\n",
    "\n",
    "Reach test accuracy greater than 99.4\n",
    "\n",
    "**Results:**\n",
    "\n",
    "Parameters: 7,510\n",
    "\n",
    "Best Training Accuracy: 99.71\n",
    "\n",
    "Best Test Accuracy: 99.56\n",
    "\n",
    "**Analysis:**\n",
    "\n",
    "Parameters count has been kept under 8000\n",
    "\n",
    "Model achieved test accuracy greater than 99.4 from 10th epoch"
   ]
  }
 ],
 "metadata": {
  "kernelspec": {
   "display_name": "pytorch",
   "language": "python",
   "name": "python3"
  },
  "language_info": {
   "codemirror_mode": {
    "name": "ipython",
    "version": 3
   },
   "file_extension": ".py",
   "mimetype": "text/x-python",
   "name": "python",
   "nbconvert_exporter": "python",
   "pygments_lexer": "ipython3",
   "version": "3.11.11"
  }
 },
 "nbformat": 4,
 "nbformat_minor": 2
}
